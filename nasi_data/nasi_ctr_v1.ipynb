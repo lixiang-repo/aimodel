{
 "cells": [
  {
   "cell_type": "code",
   "execution_count": null,
   "id": "22ec56dd",
   "metadata": {
    "ExecuteTime": {
     "end_time": "2024-02-03T06:44:56.953010Z",
     "start_time": "2024-02-03T06:44:56.219123Z"
    }
   },
   "outputs": [],
   "source": [
    "from pyspark.sql.types import FloatType, IntegerType, StringType\n",
    "import pyspark.sql.functions as F\n",
    "import datetime\n",
    "import pandas as pd\n",
    "\n",
    "from dateutil.parser import parse\n",
    "import numpy as np\n",
    "import json, os\n",
    "from pyspark.storagelevel import StorageLevel\n",
    "\n",
    "from utils import *\n",
    "import warnings\n",
    "warnings.filterwarnings(\"ignore\")\n",
    "\n",
    "flags = [False]\n",
    "task = \"nasi_ctr_v1\"\n"
   ]
  },
  {
   "cell_type": "code",
   "execution_count": null,
   "id": "a6f0101e",
   "metadata": {
    "ExecuteTime": {
     "end_time": "2024-02-03T06:45:02.893940Z",
     "start_time": "2024-02-03T06:45:02.882772Z"
    }
   },
   "outputs": [],
   "source": [
    "\n",
    "def main(day):\n",
    "    y, m, d = day.strftime(\"%Y\"), day.strftime(\"%m\"), day.strftime(\"%d\")\n",
    "\n",
    "    sql = \"\"\"\n",
    "    select *, cast(click_type as float) as label from dsp.push_all_v1\n",
    "    where year='{y}' and month='{m}' and day='{d}' and show_type='1'\n",
    "    \"\"\".format(y=y, m=m, d=d)\n",
    "\n",
    "    df = spark.sql(sql).persist(StorageLevel.MEMORY_AND_DISK)\n",
    "\n",
    "    labels = df.select(\"label\").toPandas()[\"label\"]\n",
    "    print(\"cnt>>>\", day.strftime(\"%Y%m%d\"), len(labels), labels.mean())\n",
    "    if len(labels) > 10000:\n",
    "        df = df.withColumn(\"bid_floor\", F.udf(parse_float, returnType=FloatType())(\"bid_floor\"))\n",
    "            # .withColumn(\"modelprice\", F.udf(parse_float, returnType=FloatType())(\"modelprice\"))\n",
    "\n",
    "        dtypes = dict(df.dtypes)\n",
    "        for k, dtype in dtypes.items():\n",
    "            if dtype == \"string\":\n",
    "                df = df.withColumn(k, F.udf(fill_na)(k))\n",
    "\n",
    "        savedPath = \"/user/hive/warehouse/lixiang.db/%s/%s\" % (task, day.strftime(\"%Y%m%d\"))\n",
    "        df.repartition(50).write.mode(\"overwrite\").format(\"tfrecords\").option(\"recordType\", \"Example\").save(savedPath)\n",
    "\n",
    "        "
   ]
  },
  {
   "cell_type": "code",
   "execution_count": null,
   "id": "1629485d",
   "metadata": {
    "ExecuteTime": {
     "end_time": "2024-02-03T06:48:23.612656Z",
     "start_time": "2024-02-03T06:45:06.687777Z"
    },
    "scrolled": false
   },
   "outputs": [],
   "source": [
    "start_date = datetime.datetime.now() - datetime.timedelta(days=7)\n",
    "now = datetime.datetime.now() - datetime.timedelta(days=1)\n",
    "\n",
    "for day in pd.date_range(start_date, now):\n",
    "\n",
    "    cmd = \"hadoop fs -test -e /user/hive/warehouse/lixiang.db/%s/%s/_SUCCESS;echo $?\" % (task, day.strftime(\"%Y%m%d\"))\n",
    "    out = exec_cmd(cmd)\n",
    "    print(\"cmd>>>\", cmd, out)\n",
    "    if out is not None and int(out) != 0:\n",
    "        spark = set_spark(task, flags)\n",
    "        sc = spark.sparkContext\n",
    "        main(day)\n",
    "\n"
   ]
  },
  {
   "cell_type": "code",
   "execution_count": null,
   "id": "7bccb4bb",
   "metadata": {
    "ExecuteTime": {
     "end_time": "2024-02-02T21:50:39.520432Z",
     "start_time": "2024-02-02T21:50:39.515845Z"
    }
   },
   "outputs": [],
   "source": []
  },
  {
   "cell_type": "code",
   "execution_count": null,
   "id": "c8eb9396",
   "metadata": {},
   "outputs": [],
   "source": []
  },
  {
   "cell_type": "code",
   "execution_count": null,
   "id": "ea2b8d66",
   "metadata": {},
   "outputs": [],
   "source": []
  },
  {
   "cell_type": "code",
   "execution_count": null,
   "id": "0db9f397",
   "metadata": {},
   "outputs": [],
   "source": []
  },
  {
   "cell_type": "code",
   "execution_count": null,
   "id": "08b71b19",
   "metadata": {
    "ExecuteTime": {
     "end_time": "2024-02-02T16:37:14.846263Z",
     "start_time": "2024-02-02T16:37:14.821894Z"
    }
   },
   "outputs": [],
   "source": []
  },
  {
   "cell_type": "code",
   "execution_count": null,
   "id": "e10913e2",
   "metadata": {
    "ExecuteTime": {
     "end_time": "2024-02-03T06:48:24.281136Z",
     "start_time": "2024-02-03T06:48:23.616127Z"
    }
   },
   "outputs": [],
   "source": [
    "try:\n",
    "    spark.stop()\n",
    "except:\n",
    "    pass"
   ]
  },
  {
   "cell_type": "code",
   "execution_count": null,
   "id": "8bc848d5",
   "metadata": {},
   "outputs": [],
   "source": []
  },
  {
   "cell_type": "code",
   "execution_count": null,
   "id": "7c8e9cfd",
   "metadata": {},
   "outputs": [],
   "source": []
  },
  {
   "cell_type": "code",
   "execution_count": null,
   "id": "aa78774f",
   "metadata": {},
   "outputs": [],
   "source": []
  },
  {
   "cell_type": "code",
   "execution_count": null,
   "id": "f64503aa",
   "metadata": {},
   "outputs": [],
   "source": []
  },
  {
   "cell_type": "code",
   "execution_count": null,
   "id": "c93fba1e",
   "metadata": {},
   "outputs": [],
   "source": []
  },
  {
   "cell_type": "code",
   "execution_count": null,
   "id": "b70164ab",
   "metadata": {},
   "outputs": [],
   "source": []
  },
  {
   "cell_type": "code",
   "execution_count": null,
   "id": "537dde3a",
   "metadata": {},
   "outputs": [],
   "source": []
  },
  {
   "cell_type": "code",
   "execution_count": null,
   "id": "718a37f3",
   "metadata": {},
   "outputs": [],
   "source": []
  }
 ],
 "metadata": {
  "kernelspec": {
   "display_name": "Python 3 (ipykernel)",
   "language": "python",
   "name": "python3"
  },
  "language_info": {
   "codemirror_mode": {
    "name": "ipython",
    "version": 3
   },
   "file_extension": ".py",
   "mimetype": "text/x-python",
   "name": "python",
   "nbconvert_exporter": "python",
   "pygments_lexer": "ipython3",
   "version": "3.7.12"
  },
  "toc": {
   "base_numbering": 1,
   "nav_menu": {},
   "number_sections": true,
   "sideBar": true,
   "skip_h1_title": false,
   "title_cell": "Table of Contents",
   "title_sidebar": "Contents",
   "toc_cell": false,
   "toc_position": {},
   "toc_section_display": true,
   "toc_window_display": false
  }
 },
 "nbformat": 4,
 "nbformat_minor": 5
}
